{
 "cells": [
  {
   "cell_type": "code",
   "execution_count": 9,
   "metadata": {
    "collapsed": true
   },
   "outputs": [],
   "source": [
    "#some imports\n",
    "import json\n",
    "\n",
    "from couchbase.bucket import Bucket\n",
    "from couchbase.n1ql import N1QLQuery\n",
    "import couchbase"
   ]
  },
  {
   "cell_type": "code",
   "execution_count": 2,
   "metadata": {
    "collapsed": true
   },
   "outputs": [],
   "source": [
    "#we connect to the beer-sample bucket change the ip address to your needs\n",
    "cb = Bucket('couchbase://172.17.0.2/beer-sample')"
   ]
  },
  {
   "cell_type": "code",
   "execution_count": 3,
   "metadata": {},
   "outputs": [
    {
     "name": "stdout",
     "output_type": "stream",
     "text": [
      "{\n",
      "  \"beer-sample\": {\n",
      "    \"abv\": 7.2,\n",
      "    \"brewery_id\": \"21st_amendment_brewery_cafe\",\n",
      "    \"category\": \"North American Ale\",\n",
      "    \"description\": \"Deep golden color. Citrus and piney hop aromas. Assertive malt backbone supporting the overwhelming bitterness. Dry hopped in the fermenter with four types of hops giving an explosive hop aroma. Many refer to this IPA as Nectar of the Gods. Judge for yourself. Now Available in Cans!\",\n",
      "    \"ibu\": 0,\n",
      "    \"name\": \"21A IPA\",\n",
      "    \"srm\": 0,\n",
      "    \"style\": \"American-Style India Pale Ale\",\n",
      "    \"type\": \"beer\",\n",
      "    \"upc\": 0,\n",
      "    \"updated\": \"2010-07-22 20:00:20\"\n",
      "  }\n",
      "}\n",
      "{\n",
      "  \"beer-sample\": {\n",
      "    \"abv\": 5,\n",
      "    \"brewery_id\": \"21st_amendment_brewery_cafe\",\n",
      "    \"category\": \"North American Ale\",\n",
      "    \"description\": \"Deep black color, toasted black burnt coffee flavors and aroma. Dispensed with Nitrogen through a slow-flow faucet giving it the characteristic cascading effect, resulting in a rich dense creamy head.\",\n",
      "    \"ibu\": 0,\n",
      "    \"name\": \"563 Stout\",\n",
      "    \"srm\": 0,\n",
      "    \"style\": \"American-Style Stout\",\n",
      "    \"type\": \"beer\",\n",
      "    \"upc\": 0,\n",
      "    \"updated\": \"2010-07-22 20:00:20\"\n",
      "  }\n",
      "}\n",
      "{\n",
      "  \"beer-sample\": {\n",
      "    \"abv\": 5.2,\n",
      "    \"brewery_id\": \"21st_amendment_brewery_cafe\",\n",
      "    \"category\": \"North American Ale\",\n",
      "    \"description\": \"Rich golden hue color. Floral hop with sweet malt aroma. Medium mouth feel with malt sweetness, hop quenching flavor and well-balanced bitterness.\",\n",
      "    \"ibu\": 0,\n",
      "    \"name\": \"Amendment Pale Ale\",\n",
      "    \"srm\": 0,\n",
      "    \"style\": \"American-Style Pale Ale\",\n",
      "    \"type\": \"beer\",\n",
      "    \"upc\": 0,\n",
      "    \"updated\": \"2010-07-22 20:00:20\"\n",
      "  }\n",
      "}\n",
      "{\n",
      "  \"beer-sample\": {\n",
      "    \"abv\": 3.6,\n",
      "    \"brewery_id\": \"21st_amendment_brewery_cafe\",\n",
      "    \"category\": \"British Ale\",\n",
      "    \"description\": \"An American session beer. Loaded with hop character and a malty presence, but lower in alcohol.\",\n",
      "    \"ibu\": 0,\n",
      "    \"name\": \"Bitter American\",\n",
      "    \"srm\": 0,\n",
      "    \"style\": \"Special Bitter or Best Bitter\",\n",
      "    \"type\": \"beer\",\n",
      "    \"upc\": 0,\n",
      "    \"updated\": \"2010-07-22 20:00:20\"\n",
      "  }\n",
      "}\n",
      "{\n",
      "  \"beer-sample\": {\n",
      "    \"abv\": 9.8,\n",
      "    \"brewery_id\": \"21st_amendment_brewery_cafe\",\n",
      "    \"category\": \"North American Ale\",\n",
      "    \"description\": \"Deep, golden, rich malt flavor huge citrus, fruity grassy, ethanol sweetness aroma with a profound bitterness, yet balanced malt back bone with grapefruit, mellow citric overtones. Dry hopped three times in the fermenter. Brewed with over 65 lbs of hops for 300 gallons of beer. The beer to bring world peace and end the war. Bronze Medal - 2006 Imperial IPA Festival at the Bistro in Hayward, California.\",\n",
      "    \"ibu\": 0,\n",
      "    \"name\": \"Double Trouble IPA\",\n",
      "    \"srm\": 0,\n",
      "    \"style\": \"Imperial or Double India Pale Ale\",\n",
      "    \"type\": \"beer\",\n",
      "    \"upc\": 0,\n",
      "    \"updated\": \"2010-07-22 20:00:20\"\n",
      "  }\n",
      "}\n",
      "{\n",
      "  \"beer-sample\": {\n",
      "    \"abv\": 5.5,\n",
      "    \"brewery_id\": \"21st_amendment_brewery_cafe\",\n",
      "    \"category\": \"Irish Ale\",\n",
      "    \"description\": \"Deep toffee color with rich roasty and subtle hop aroma. Chocolate flavors dominate the palate and interact with back-end sweetness.\",\n",
      "    \"ibu\": 0,\n",
      "    \"name\": \"General Pippo's Porter\",\n",
      "    \"srm\": 0,\n",
      "    \"style\": \"Porter\",\n",
      "    \"type\": \"beer\",\n",
      "    \"upc\": 0,\n",
      "    \"updated\": \"2010-07-22 20:00:20\"\n",
      "  }\n",
      "}\n",
      "{\n",
      "  \"beer-sample\": {\n",
      "    \"abv\": 5.8,\n",
      "    \"brewery_id\": \"21st_amendment_brewery_cafe\",\n",
      "    \"category\": \"North American Ale\",\n",
      "    \"description\": \"Deep amber color. Subtle hop floral nose intertwined with sweet crystal malt aromas. Rich malt flavors supporting a slight bitterness finish.\",\n",
      "    \"ibu\": 0,\n",
      "    \"name\": \"North Star Red\",\n",
      "    \"srm\": 0,\n",
      "    \"style\": \"American-Style Amber/Red Ale\",\n",
      "    \"type\": \"beer\",\n",
      "    \"upc\": 0,\n",
      "    \"updated\": \"2010-07-22 20:00:20\"\n",
      "  }\n",
      "}\n",
      "{\n",
      "  \"beer-sample\": {\n",
      "    \"abv\": 5.9,\n",
      "    \"brewery_id\": \"21st_amendment_brewery_cafe\",\n",
      "    \"category\": \"North American Ale\",\n",
      "    \"description\": \"Deep black color. Chocolate milk color head, providing an array of Belgian lace. Toffee and light roasty aromas and flavors. A malty sweet taste is evident but, this rich oatmeal based stout finishes dry. Made with 20 lbs. of oysters, in the boil, from our good friends at Hog Island Oyster Company.\",\n",
      "    \"ibu\": 0,\n",
      "    \"name\": \"Oyster Point Oyster Stout\",\n",
      "    \"srm\": 0,\n",
      "    \"style\": \"American-Style Stout\",\n",
      "    \"type\": \"beer\",\n",
      "    \"upc\": 0,\n",
      "    \"updated\": \"2010-07-22 20:00:20\"\n",
      "  }\n",
      "}\n",
      "{\n",
      "  \"beer-sample\": {\n",
      "    \"abv\": 5.2,\n",
      "    \"brewery_id\": \"21st_amendment_brewery_cafe\",\n",
      "    \"category\": \"British Ale\",\n",
      "    \"description\": \"Traditional English E.S.B. made with English malt and hops. Fruity aroma with an imparted tart flavor brought about by replicating the water profile in England at Burton on Trent.\",\n",
      "    \"ibu\": 0,\n",
      "    \"name\": \"Potrero ESB\",\n",
      "    \"srm\": 0,\n",
      "    \"style\": \"Special Bitter or Best Bitter\",\n",
      "    \"type\": \"beer\",\n",
      "    \"upc\": 0,\n",
      "    \"updated\": \"2010-07-22 20:00:20\"\n",
      "  }\n",
      "}\n",
      "{\n",
      "  \"beer-sample\": {\n",
      "    \"abv\": 5,\n",
      "    \"brewery_id\": \"21st_amendment_brewery_cafe\",\n",
      "    \"category\": \"North American Ale\",\n",
      "    \"description\": \"Light golden color. Sweet dry aroma with crisp, clear bitterness. Brewed with imported German hops.The perfect beer to have when you'd like to have more than one.\",\n",
      "    \"ibu\": 0,\n",
      "    \"name\": \"South Park Blonde\",\n",
      "    \"srm\": 0,\n",
      "    \"style\": \"Golden or Blonde Ale\",\n",
      "    \"type\": \"beer\",\n",
      "    \"upc\": 0,\n",
      "    \"updated\": \"2010-07-22 20:00:20\"\n",
      "  }\n",
      "}\n",
      "{\n",
      "  \"beer-sample\": {\n",
      "    \"abv\": 5.5,\n",
      "    \"brewery_id\": \"21st_amendment_brewery_cafe\",\n",
      "    \"category\": \"Belgian and French Ale\",\n",
      "    \"description\": \"The definition of summer in a pint glass. This unique, American-style wheat beer, is brewed with 400 lbs. of fresh pressed watermelon in each batch. Light turbid, straw color, with the taste and essence of fresh watermelon. Finishes dry and clean. Now Available in Cans!\",\n",
      "    \"ibu\": 0,\n",
      "    \"name\": \"Watermelon Wheat\",\n",
      "    \"srm\": 0,\n",
      "    \"style\": \"Belgian-Style Fruit Lambic\",\n",
      "    \"type\": \"beer\",\n",
      "    \"upc\": 0,\n",
      "    \"updated\": \"2010-07-22 20:00:20\"\n",
      "  }\n",
      "}\n"
     ]
    }
   ],
   "source": [
    "#let's make a query\n",
    "\n",
    "query = N1QLQuery(\"SELECT * \" +\\\n",
    "                  \"FROM `beer-sample` \" +\\\n",
    "                  \"WHERE brewery_id=$brewery_id\",\n",
    "                  brewery_id=\"21st_amendment_brewery_cafe\")\n",
    "\n",
    "for row in cb.n1ql_query(query):\n",
    "    print(json.dumps(row, indent=2))"
   ]
  },
  {
   "cell_type": "code",
   "execution_count": 4,
   "metadata": {},
   "outputs": [
    {
     "name": "stdout",
     "output_type": "stream",
     "text": [
      "{\n",
      "  \"name\": \"21st Amendment Brewery Cafe\",\n",
      "  \"city\": \"San Francisco\",\n",
      "  \"state\": \"California\",\n",
      "  \"code\": \"94107\",\n",
      "  \"country\": \"United States\",\n",
      "  \"phone\": \"1-415-369-0900\",\n",
      "  \"website\": \"http://www.21st-amendment.com/\",\n",
      "  \"type\": \"brewery\",\n",
      "  \"updated\": \"2010-10-24 13:54:07\",\n",
      "  \"description\": \"The 21st Amendment Brewery offers a variety of award winning house made brews and American grilled cuisine in a comfortable loft like setting. Join us before and after Giants baseball games in our outdoor beer garden. A great location for functions and parties in our semi-private Brewers Loft. See you soon at the 21A!\",\n",
      "  \"address\": [\n",
      "    \"563 Second Street\"\n",
      "  ],\n",
      "  \"geo\": {\n",
      "    \"accuracy\": \"ROOFTOP\",\n",
      "    \"lat\": 37.7825,\n",
      "    \"lon\": -122.393\n",
      "  }\n",
      "}\n"
     ]
    }
   ],
   "source": [
    "#let's have a look to a specific object\n",
    "\n",
    "rv = cb.get('21st_amendment_brewery_cafe')\n",
    "print(json.dumps(rv.value, indent=2))"
   ]
  },
  {
   "cell_type": "code",
   "execution_count": 5,
   "metadata": {},
   "outputs": [
    {
     "name": "stdout",
     "output_type": "stream",
     "text": [
      "{\n",
      "  \"$1\": {\n",
      "    \"cas\": 1501004091080572928,\n",
      "    \"flags\": 33554438,\n",
      "    \"id\": \"21st_amendment_brewery_cafe-563_stout\",\n",
      "    \"type\": \"json\"\n",
      "  },\n",
      "  \"cas\": 1501004091080572928,\n",
      "  \"id\": \"21st_amendment_brewery_cafe-563_stout\"\n",
      "}\n"
     ]
    }
   ],
   "source": [
    "#let's play with the metadata and N1QL\n",
    "\n",
    "query = N1QLQuery(\"SELECT meta(beer).id,meta(beer).cas, meta(beer) \" +\\\n",
    "                  \"FROM `beer-sample` beer \" +\\\n",
    "                  \"WHERE name=$name\",\n",
    "                  name=\"563 Stout\")\n",
    "\n",
    "for row in cb.n1ql_query(query):\n",
    "    print(json.dumps(row, indent=2))"
   ]
  },
  {
   "cell_type": "code",
   "execution_count": 10,
   "metadata": {},
   "outputs": [
    {
     "name": "stdout",
     "output_type": "stream",
     "text": [
      "toto already exist, we have to delete it first\n",
      "toto removed\n",
      "{\n",
      "  \"name\": \"toto\",\n",
      "  \"description\": \"this is the best\"\n",
      "}\n"
     ]
    }
   ],
   "source": [
    "#let's store an object\n",
    "\n",
    "toto={'name':'toto','description':'this is the best'}\n",
    "try:\n",
    "    result = cb.insert('toto', toto,format=couchbase.FMT_JSON)\n",
    "    if not result.success:\n",
    "        print(\"problem with insert\")\n",
    "except couchbase.exceptions.KeyExistsError:\n",
    "    print(\"toto already exist, we have to delete it first\")\n",
    "    result=cb.remove('toto')\n",
    "    print(\"toto removed\")\n",
    "    if not result.success:\n",
    "        print(\"problem with deleting toto\")\n",
    "    result = cb.insert('toto', toto,format=couchbase.FMT_JSON)\n",
    "    if not result.success:\n",
    "        print(\"problem with insert\")\n",
    "\n",
    "#check the result\n",
    "print(json.dumps(cb.get('toto').value, indent=2))"
   ]
  },
  {
   "cell_type": "code",
   "execution_count": 11,
   "metadata": {},
   "outputs": [
    {
     "name": "stdout",
     "output_type": "stream",
     "text": [
      "{\n",
      "  \"beer-sample\": {\n",
      "    \"description\": \"this is the best\",\n",
      "    \"name\": \"toto\"\n",
      "  }\n",
      "}\n"
     ]
    }
   ],
   "source": [
    "query = N1QLQuery(\"SELECT * \" +\\\n",
    "                  \"FROM `beer-sample`  \" +\\\n",
    "                  \"WHERE name=$name\",\n",
    "                  name=\"toto\")\n",
    "\n",
    "for row in cb.n1ql_query(query):\n",
    "    print(json.dumps(row, indent=2))"
   ]
  },
  {
   "cell_type": "code",
   "execution_count": 12,
   "metadata": {},
   "outputs": [
    {
     "name": "stdout",
     "output_type": "stream",
     "text": [
      "{\n",
      "  \"name\": \"Tactical Nuclear Penguin\"\n",
      "}\n",
      "{\n",
      "  \"name\": \"Vetter 33\"\n",
      "}\n",
      "{\n",
      "  \"name\": \"Norfolk Nog Old Dark Ale\"\n",
      "}\n"
     ]
    }
   ],
   "source": [
    "query = N1QLQuery(\"SELECT name \" +\\\n",
    "                  \"FROM `beer-sample`  \" +\\\n",
    "                  \"WHERE abv>$abv\",\n",
    "                  abv=30)\n",
    "\n",
    "for row in cb.n1ql_query(query):\n",
    "    print(json.dumps(row, indent=2))"
   ]
  },
  {
   "cell_type": "code",
   "execution_count": null,
   "metadata": {
    "collapsed": true
   },
   "outputs": [],
   "source": []
  }
 ],
 "metadata": {
  "kernelspec": {
   "display_name": "Python 3",
   "language": "python",
   "name": "python3"
  },
  "language_info": {
   "codemirror_mode": {
    "name": "ipython",
    "version": 3
   },
   "file_extension": ".py",
   "mimetype": "text/x-python",
   "name": "python",
   "nbconvert_exporter": "python",
   "pygments_lexer": "ipython3",
   "version": "3.6.1"
  }
 },
 "nbformat": 4,
 "nbformat_minor": 2
}
