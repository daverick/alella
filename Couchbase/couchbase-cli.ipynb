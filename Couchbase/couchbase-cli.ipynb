{
 "cells": [
  {
   "cell_type": "code",
   "execution_count": 4,
   "metadata": {},
   "outputs": [
    {
     "name": "stdout",
     "output_type": "stream",
     "text": [
      "Python 3.6.1\n"
     ]
    }
   ],
   "source": [
    "python --version"
   ]
  },
  {
   "cell_type": "markdown",
   "metadata": {},
   "source": [
    "wrong version need to switch to python2 "
   ]
  },
  {
   "cell_type": "code",
   "execution_count": 5,
   "metadata": {},
   "outputs": [
    {
     "name": "stdout",
     "output_type": "stream",
     "text": [
      "Running virtualenv with interpreter /usr/bin/python2\n",
      "New python executable in env/bin/python2\n",
      "Not overwriting existing python script env/bin/python (you must use env/bin/python2)\n",
      "Installing setuptools, pip...done.\n",
      "(env)Python 2.7.9\n",
      "(env)"
     ]
    },
    {
     "ename": "",
     "evalue": "1",
     "output_type": "error",
     "traceback": []
    }
   ],
   "source": [
    "#switch to python2\n",
    "cd /tmp\n",
    "virtualenv -p /usr/bin/python2 env\n",
    "source /tmp/env/bin/activate\n",
    "/usr/bin/env python --version"
   ]
  },
  {
   "cell_type": "code",
   "execution_count": 6,
   "metadata": {},
   "outputs": [
    {
     "name": "stdout",
     "output_type": "stream",
     "text": [
      "couchbase-cli - command-line cluster administration tool\n",
      "\n",
      "CLUSTER:\n",
      "  --cluster=HOST[:PORT] or -c HOST[:PORT]\n",
      "\n",
      "OPTIONS:\n",
      "  -u USERNAME, --user=USERNAME      admin username of the cluster\n",
      "  -p PASSWORD, --password=PASSWORD  admin password of the cluster\n",
      "  -o KIND, --output=KIND            KIND is json or standard\n",
      "  -d, --debug\n",
      "  -s, --ssl                         uses SSL for communication with secure servers\n",
      "\n",
      "NOTE:\n",
      "  USERNAME can be set in environment variable CB_REST_USERNAME and/or\n",
      "  PASSWORD can be set in environment variable CB_REST_PASSWORD instead\n",
      "\n",
      "usage: couchbase-cli COMMAND CLUSTER [OPTIONS]\n",
      "\n",
      "COMMANDs include\n",
      "  admin-role-manage     set access-control roles for users\n",
      "  bucket-compact        compact database and index data\n",
      "  bucket-create         add a new bucket to the cluster\n",
      "  bucket-delete         delete an existing bucket\n",
      "  bucket-edit           modify an existing bucket\n",
      "  bucket-flush          flush all data from disk for a given bucket\n",
      "  bucket-list           list all buckets in a cluster\n",
      "  cluster-edit          modify cluster settings\n",
      "  cluster-init          set the username,password and port of the cluster\n",
      "  collect-logs-start    start a cluster-wide log collection\n",
      "  collect-logs-status   show the status of cluster-wide log collection\n",
      "  collect-logs-stop     stop a cluster-wide log collection\n",
      "  failover              failover one or more servers\n",
      "  group-manage          manage server groups\n",
      "  help                  show longer usage/help and examples\n",
      "  node-init             set node specific parameters\n",
      "  rebalance             start a cluster rebalancing\n",
      "  rebalance-status      show status of current cluster rebalancing\n",
      "  rebalance-stop        stop current cluster rebalancing\n",
      "  recovery              recover one or more servers\n",
      "  server-add            add one or more servers to the cluster\n",
      "  server-info           show details on one server\n",
      "  server-list           list all servers in a cluster\n",
      "  server-readd          readd a server that was failed over\n",
      "  setting-alert         set email alert settings\n",
      "  setting-audit         set audit settings\n",
      "  setting-autofailover  set auto failover settings\n",
      "  setting-cluster       set cluster settings\n",
      "  setting-compaction    set auto compaction settings\n",
      "  setting-index         set index settings\n",
      "  setting-ldap          set ldap settings\n",
      "  setting-notification  set notification settings\n",
      "  setting-xdcr          set xdcr related settings\n",
      "  ssl-manage            manage cluster certificate\n",
      "  user-manage           manage read only user\n",
      "  xdcr-replicate        xdcr operations\n",
      "  xdcr-setup            set up XDCR connection\n",
      "\n",
      "(env)"
     ]
    },
    {
     "ename": "",
     "evalue": "1",
     "output_type": "error",
     "traceback": []
    }
   ],
   "source": [
    "/opt/couchbase/bin/couchbase-cli"
   ]
  },
  {
   "cell_type": "code",
   "execution_count": 7,
   "metadata": {},
   "outputs": [
    {
     "name": "stdout",
     "output_type": "stream",
     "text": [
      "(env)(env)(env)(env)"
     ]
    },
    {
     "ename": "",
     "evalue": "1",
     "output_type": "error",
     "traceback": []
    }
   ],
   "source": [
    "#setting the environment. Adapt to your own\n",
    "export clusterIP=\"172.17.0.2\"\n",
    "export CB_REST_USERNAME=\"Administrator\"\n",
    "export CB_REST_PASSWORD=\"R2F-PJw-uVm-w9z\""
   ]
  },
  {
   "cell_type": "code",
   "execution_count": 8,
   "metadata": {},
   "outputs": [
    {
     "name": "stdout",
     "output_type": "stream",
     "text": [
      "ns_1@172.17.0.2 172.17.0.2:8091 healthy active\n",
      "ns_1@172.17.0.3 172.17.0.3:8091 healthy active\n",
      "ns_1@172.17.0.4 172.17.0.4:8091 healthy active\n",
      "(env)"
     ]
    },
    {
     "ename": "",
     "evalue": "1",
     "output_type": "error",
     "traceback": []
    }
   ],
   "source": [
    "/opt/couchbase/bin/couchbase-cli server-list -c $clusterIP -u $CB_REST_USERNAME -p $CB_REST_PASSWORD"
   ]
  },
  {
   "cell_type": "code",
   "execution_count": 9,
   "metadata": {},
   "outputs": [
    {
     "name": "stdout",
     "output_type": "stream",
     "text": [
      "beer-sample\n",
      " bucketType: membase\n",
      " authType: sasl\n",
      " saslPassword: \n",
      " numReplicas: 1\n",
      " ramQuota: 314572800\n",
      " ramUsed: 106578952\n",
      "(env)"
     ]
    },
    {
     "ename": "",
     "evalue": "1",
     "output_type": "error",
     "traceback": []
    }
   ],
   "source": [
    "/opt/couchbase/bin/couchbase-cli bucket-list -c $clusterIP "
   ]
  },
  {
   "cell_type": "code",
   "execution_count": 10,
   "metadata": {},
   "outputs": [
    {
     "name": "stdout",
     "output_type": "stream",
     "text": [
      "  [####################] 100.0% (7304/estimated 7304 msgs)\u001b[A\n",
      "\n",
      "bucket: beer-sample, msgs transferred...\n",
      "       :                total |       last |    per sec\n",
      " byte  :              2541597 |    2541597 |  1079433.8\n",
      "done\n",
      "(env)"
     ]
    },
    {
     "ename": "",
     "evalue": "1",
     "output_type": "error",
     "traceback": []
    }
   ],
   "source": [
    "/opt/couchbase/bin/cbbackup http://$clusterIP /tmp/backup-full\n"
   ]
  },
  {
   "cell_type": "code",
   "execution_count": 11,
   "metadata": {},
   "outputs": [
    {
     "name": "stdout",
     "output_type": "stream",
     "text": [
      "total 12K\n",
      "44640 drwxr-xr-x 3 root root 4.0K Jul 26 17:14 .\n",
      " 3347 drwxrwxrwt 4 root root 4.0K Jul 26 17:14 ..\n",
      "44643 drwxr-xr-x 3 root root 4.0K Jul 26 17:14 2017-07-26T171454Z\n",
      "(env)"
     ]
    },
    {
     "ename": "",
     "evalue": "1",
     "output_type": "error",
     "traceback": []
    }
   ],
   "source": [
    "ls -ailh /tmp/backup-full"
   ]
  },
  {
   "cell_type": "code",
   "execution_count": null,
   "metadata": {
    "collapsed": true
   },
   "outputs": [],
   "source": []
  }
 ],
 "metadata": {
  "kernelspec": {
   "display_name": "Bash",
   "language": "bash",
   "name": "bash"
  },
  "language_info": {
   "codemirror_mode": "shell",
   "file_extension": ".sh",
   "mimetype": "text/x-sh",
   "name": "bash"
  }
 },
 "nbformat": 4,
 "nbformat_minor": 2
}
