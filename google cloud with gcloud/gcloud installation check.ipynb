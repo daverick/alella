{
 "cells": [
  {
   "cell_type": "markdown",
   "metadata": {},
   "source": [
    "# gcloud installation testing\n",
    "\n",
    "This notebook has to be executed on a jupyter server where gcloud has been installed."
   ]
  },
  {
   "cell_type": "code",
   "execution_count": null,
   "metadata": {
    "collapsed": true
   },
   "outputs": [],
   "source": [
    "#gcloud version\n",
    "!gcloud -v"
   ]
  },
  {
   "cell_type": "code",
   "execution_count": null,
   "metadata": {
    "collapsed": true
   },
   "outputs": [],
   "source": [
    "#gcloud config\n",
    "!gcloud config list"
   ]
  },
  {
   "cell_type": "markdown",
   "metadata": {},
   "source": [
    "## project is not set, so let try to set it"
   ]
  },
  {
   "cell_type": "code",
   "execution_count": null,
   "metadata": {
    "collapsed": true
   },
   "outputs": [],
   "source": [
    "#list projects\n",
    "!gcloud projects list --format='[box]'"
   ]
  },
  {
   "cell_type": "code",
   "execution_count": null,
   "metadata": {
    "collapsed": true
   },
   "outputs": [],
   "source": [
    "#list the project in a more firendly way for python ;-)\n",
    "!gcloud projects list --format='value[no-heading](name,project_ID)'"
   ]
  },
  {
   "cell_type": "code",
   "execution_count": null,
   "metadata": {
    "collapsed": true
   },
   "outputs": [],
   "source": [
    "#put the project list in a dictionnary\n",
    "projects=!gcloud projects list --format='value[no-heading](name,project_ID)'\n",
    "projectsDict={project[0]:project[1] for project in [line.split('\\t')for line in projects.n.split('\\n')]}"
   ]
  },
  {
   "cell_type": "code",
   "execution_count": null,
   "metadata": {
    "collapsed": true
   },
   "outputs": [],
   "source": [
    "# choose the projectId with a nice widget\n",
    "\n",
    "import ipywidgets as widgets\n",
    "#projectId is the variable that will contains the projectId that will be used in the API calls\n",
    "projectId=None\n",
    "\n",
    "projectsDict['None']='invalid'\n",
    "\n",
    "#the dropdownlist widget\n",
    "projectWidget=widgets.Dropdown(options=projectsDict,description='Choose your Project',value='invalid')\n",
    "#a valid widget that get valid when a project is selected\n",
    "projectIdValid=widgets.Valid(value=False,description='')\n",
    "display(widgets.Box([projectWidget,projectIdValid]))\n",
    "\n",
    "def projectValueChange(sender):\n",
    "    if projectWidget.value!='invalid':\n",
    "        #when a valid project is selected ,the gloabl variable projectId is set \n",
    "        projectIdValid.value=True\n",
    "        projectIdValid.description=projectWidget.value\n",
    "        global projectId\n",
    "        projectId=projectWidget.value    \n",
    "    else:\n",
    "        projectIdValid.value=False\n",
    "        projectIdValid.description=''\n",
    "projectWidget.observe(projectValueChange, 'value')"
   ]
  },
  {
   "cell_type": "code",
   "execution_count": null,
   "metadata": {
    "collapsed": true
   },
   "outputs": [],
   "source": [
    "#we set the project in the gcloud config\n",
    "!gcloud config set project {projectId}"
   ]
  },
  {
   "cell_type": "code",
   "execution_count": null,
   "metadata": {
    "collapsed": true
   },
   "outputs": [],
   "source": [
    "#we check it's correct\n",
    "!gcloud config list"
   ]
  },
  {
   "cell_type": "code",
   "execution_count": 1,
   "metadata": {},
   "outputs": [
    {
     "name": "stdout",
     "output_type": "stream",
     "text": [
      "NAME                    REGION                STATUS  NEXT_MAINTENANCE  TURNDOWN_DATE\r\n",
      "asia-east1-a            asia-east1            UP\r\n",
      "asia-east1-b            asia-east1            UP\r\n",
      "asia-east1-c            asia-east1            UP\r\n",
      "asia-northeast1-c       asia-northeast1       UP\r\n",
      "asia-northeast1-a       asia-northeast1       UP\r\n",
      "asia-northeast1-b       asia-northeast1       UP\r\n",
      "asia-southeast1-b       asia-southeast1       UP\r\n",
      "asia-southeast1-a       asia-southeast1       UP\r\n",
      "australia-southeast1-b  australia-southeast1  UP\r\n",
      "australia-southeast1-a  australia-southeast1  UP\r\n",
      "australia-southeast1-c  australia-southeast1  UP\r\n",
      "europe-west1-c          europe-west1          UP\r\n",
      "europe-west1-d          europe-west1          UP\r\n",
      "europe-west1-b          europe-west1          UP\r\n",
      "europe-west2-b          europe-west2          UP\r\n",
      "europe-west2-c          europe-west2          UP\r\n",
      "europe-west2-a          europe-west2          UP\r\n",
      "us-central1-c           us-central1           UP\r\n",
      "us-central1-a           us-central1           UP\r\n",
      "us-central1-b           us-central1           UP\r\n",
      "us-central1-f           us-central1           UP\r\n",
      "us-east1-d              us-east1              UP\r\n",
      "us-east1-c              us-east1              UP\r\n",
      "us-east1-b              us-east1              UP\r\n",
      "us-east4-b              us-east4              UP\r\n",
      "us-east4-c              us-east4              UP\r\n",
      "us-east4-a              us-east4              UP\r\n",
      "us-west1-c              us-west1              UP\r\n",
      "us-west1-b              us-west1              UP\r\n",
      "us-west1-a              us-west1              UP\r\n"
     ]
    }
   ],
   "source": [
    "#we can now use gcloud without passing the project in the parameters!\n",
    "!gcloud compute zones list"
   ]
  },
  {
   "cell_type": "code",
   "execution_count": null,
   "metadata": {
    "collapsed": true
   },
   "outputs": [],
   "source": []
  }
 ],
 "metadata": {
  "kernelspec": {
   "display_name": "Python 3",
   "language": "python",
   "name": "python3"
  },
  "language_info": {
   "codemirror_mode": {
    "name": "ipython",
    "version": 3
   },
   "file_extension": ".py",
   "mimetype": "text/x-python",
   "name": "python",
   "nbconvert_exporter": "python",
   "pygments_lexer": "ipython3",
   "version": "3.5.2"
  }
 },
 "nbformat": 4,
 "nbformat_minor": 2
}
