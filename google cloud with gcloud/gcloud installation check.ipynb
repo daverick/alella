{
 "cells": [
  {
   "cell_type": "markdown",
   "metadata": {},
   "source": [
    "# gcloud installation testing\n",
    "\n",
    "This notebook has to be executed on a jupyter server where gcloud has been installed."
   ]
  },
  {
   "cell_type": "code",
   "execution_count": null,
   "metadata": {
    "collapsed": true
   },
   "outputs": [],
   "source": [
    "#gcloud version\n",
    "!gcloud -v"
   ]
  },
  {
   "cell_type": "code",
   "execution_count": null,
   "metadata": {
    "collapsed": true
   },
   "outputs": [],
   "source": [
    "#gcloud config\n",
    "!gcloud config list"
   ]
  },
  {
   "cell_type": "markdown",
   "metadata": {},
   "source": [
    "## project is not set, so let try to set it"
   ]
  },
  {
   "cell_type": "code",
   "execution_count": null,
   "metadata": {
    "collapsed": true
   },
   "outputs": [],
   "source": [
    "#list projects\n",
    "!gcloud projects list --format='[box]'"
   ]
  },
  {
   "cell_type": "code",
   "execution_count": null,
   "metadata": {
    "collapsed": true
   },
   "outputs": [],
   "source": [
    "#list the project in a more firendly way for python ;-)\n",
    "!gcloud projects list --format='value[no-heading](name,project_ID)'"
   ]
  },
  {
   "cell_type": "code",
   "execution_count": null,
   "metadata": {
    "collapsed": true
   },
   "outputs": [],
   "source": [
    "#put the project list in a dictionnary\n",
    "projects=!gcloud projects list --format='value[no-heading](name,project_ID)'\n",
    "projectsDict={project[0]:project[1] for project in [line.split('\\t')for line in projects.n.split('\\n')]}"
   ]
  },
  {
   "cell_type": "code",
   "execution_count": null,
   "metadata": {
    "collapsed": true
   },
   "outputs": [],
   "source": [
    "# choose the projectId with a nice widget\n",
    "\n",
    "import ipywidgets as widgets\n",
    "#projectId is the variable that will contains the projectId that will be used in the API calls\n",
    "projectId=None\n",
    "\n",
    "projectsDict['None']='invalid'\n",
    "\n",
    "#the dropdownlist widget\n",
    "projectWidget=widgets.Dropdown(options=projectsDict,description='Choose your Project',value='invalid')\n",
    "#a valid widget that get valid when a project is selected\n",
    "projectIdValid=widgets.Valid(value=False,description='')\n",
    "display(widgets.Box([projectWidget,projectIdValid]))\n",
    "\n",
    "def projectValueChange(sender):\n",
    "    if projectWidget.value!='invalid':\n",
    "        #when a valid project is selected ,the gloabl variable projectId is set \n",
    "        projectIdValid.value=True\n",
    "        projectIdValid.description=projectWidget.value\n",
    "        global projectId\n",
    "        projectId=projectWidget.value    \n",
    "    else:\n",
    "        projectIdValid.value=False\n",
    "        projectIdValid.description=''\n",
    "projectWidget.observe(projectValueChange, 'value')"
   ]
  },
  {
   "cell_type": "code",
   "execution_count": null,
   "metadata": {
    "collapsed": true
   },
   "outputs": [],
   "source": [
    "#we set the project in the gcloud config\n",
    "!gcloud config set project {projectId}"
   ]
  },
  {
   "cell_type": "code",
   "execution_count": null,
   "metadata": {
    "collapsed": true
   },
   "outputs": [],
   "source": [
    "#we check it's correct\n",
    "!gcloud config list"
   ]
  },
  {
   "cell_type": "code",
   "execution_count": null,
   "metadata": {
    "collapsed": true
   },
   "outputs": [],
   "source": [
    "#we can now use gcloud without passing the project in the parameters!\n",
    "!gcloud compute zones list"
   ]
  },
  {
   "cell_type": "code",
   "execution_count": null,
   "metadata": {
    "collapsed": true
   },
   "outputs": [],
   "source": []
  }
 ],
 "metadata": {
  "kernelspec": {
   "display_name": "Python 3",
   "language": "python",
   "name": "python3"
  },
  "language_info": {
   "codemirror_mode": {
    "name": "ipython",
    "version": 3
   },
   "file_extension": ".py",
   "mimetype": "text/x-python",
   "name": "python",
   "nbconvert_exporter": "python",
   "pygments_lexer": "ipython3",
   "version": "3.5.2"
  }
 },
 "nbformat": 4,
 "nbformat_minor": 2
}
