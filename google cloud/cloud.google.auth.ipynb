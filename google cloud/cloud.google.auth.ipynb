{
 "cells": [
  {
   "cell_type": "markdown",
   "metadata": {},
   "source": [
    "# cloud.google.auth\n",
    "This notebook create a OAuth 2.0 client credencials and save it on disk so that it can be reused by the others notebook."
   ]
  },
  {
   "cell_type": "code",
   "execution_count": 8,
   "metadata": {
    "collapsed": true
   },
   "outputs": [],
   "source": [
    "#some imports\n",
    "from oauth2client import client\n",
    "import httplib2\n",
    "import ipywidgets as widgets"
   ]
  },
  {
   "cell_type": "markdown",
   "metadata": {},
   "source": [
    "### Autorize this notebook to connect to the google cloud service on your google cloud account."
   ]
  },
  {
   "cell_type": "markdown",
   "metadata": {},
   "source": [
    "You need to upload first a client_secrets.json of your credentials (Oauth client ID of type other).\n",
    "\n",
    "You may want to adjust the scope parameter to yours needs."
   ]
  },
  {
   "cell_type": "code",
   "execution_count": 9,
   "metadata": {
    "collapsed": true
   },
   "outputs": [],
   "source": [
    "flow = client.flow_from_clientsecrets(\n",
    "    'client_secrets.json',\n",
    "    scope=['https://www.googleapis.com/auth/cloud-platform',\n",
    "           'https://www.googleapis.com/auth/compute'],\n",
    "    redirect_uri='urn:ietf:wg:oauth:2.0:oob')"
   ]
  },
  {
   "cell_type": "code",
   "execution_count": 10,
   "metadata": {},
   "outputs": [
    {
     "data": {
      "application/vnd.jupyter.widget-view+json": {
       "model_id": "c6875531f5b9458c90bbbbf20959d83d"
      }
     },
     "metadata": {},
     "output_type": "display_data"
    },
    {
     "data": {
      "application/vnd.jupyter.widget-view+json": {
       "model_id": "6fbd5a2abe8f47f4aa1e421547954857"
      }
     },
     "metadata": {},
     "output_type": "display_data"
    },
    {
     "data": {
      "application/vnd.jupyter.widget-view+json": {
       "model_id": "03b38a4d5025450b9023b068f38af8bf"
      }
     },
     "metadata": {},
     "output_type": "display_data"
    }
   ],
   "source": [
    "#the authroization url\n",
    "auth_uri = flow.step1_get_authorize_url()\n",
    "\n",
    "#the widget that contains the link\n",
    "authorizationLink=widgets.HTML(\n",
    "value=\"<p>Follow the link to authorize this notebook to connect to compute on your google cloud.</p>\"+\n",
    "\"<p>And copy paste the obtained authorization code in the input below.</p>\"+\n",
    "\"<a target=_blank href=\"+auth_uri+\">\"+auth_uri+\"</a>\")\n",
    "\n",
    "#the widget to insert the autorization code\n",
    "authorizationCode=widgets.Text(description=\"Your authorization code:\")\n",
    "\n",
    "display(authorizationLink)\n",
    "display(authorizationCode)\n",
    "\n",
    "def handle_submit(sender):\n",
    "    #when the autorization code is entered, close the widgets and go on\n",
    "    authorizationCode.close()\n",
    "    authorizationLink.close()\n",
    "    display(widgets.HTML(\"Go on executing the next cells.\"))\n",
    "    \n",
    "\n",
    "authorizationCode.on_submit(handle_submit)"
   ]
  },
  {
   "cell_type": "code",
   "execution_count": 11,
   "metadata": {
    "collapsed": true
   },
   "outputs": [],
   "source": [
    "#create the credentials with the autorization code \n",
    "credentials = flow.step2_exchange(authorizationCode.value)"
   ]
  },
  {
   "cell_type": "code",
   "execution_count": 12,
   "metadata": {},
   "outputs": [
    {
     "data": {
      "application/vnd.jupyter.widget-view+json": {
       "model_id": "cc2c32202f8e429096f56d62ad684dfc"
      }
     },
     "metadata": {},
     "output_type": "display_data"
    },
    {
     "data": {
      "application/vnd.jupyter.widget-view+json": {
       "model_id": "96e818fe17e14017a315962f4670e11b"
      }
     },
     "metadata": {},
     "output_type": "display_data"
    }
   ],
   "source": [
    "# a button to confirm the saving of the credentials to disk\n",
    "button=widgets.ToggleButton(value=False,\n",
    "    description='Save the credentials?',\n",
    "    disabled=False,\n",
    "    button_style='info' ,#, 'info', 'warning', 'danger' or ''\n",
    "    tooltip='On disk',\n",
    "    icon='save'\n",
    ")\n",
    "display(button)\n",
    "def on_click(sender):\n",
    "    #when the buttonis click, we save the credentials to disk\n",
    "    from oauth2client.file import Storage\n",
    "    storage = Storage(\"oauth2.dat\")\n",
    "    storage.put(credentials)\n",
    "    button.close()\n",
    "    display(widgets.Valid(\n",
    "        value=True,\n",
    "        description='Saved!',\n",
    "        disabled=False))\n",
    "     \n",
    "button.observe(on_click, 'value')"
   ]
  },
  {
   "cell_type": "code",
   "execution_count": null,
   "metadata": {
    "collapsed": true
   },
   "outputs": [],
   "source": []
  }
 ],
 "metadata": {
  "kernelspec": {
   "display_name": "Python 2",
   "language": "python",
   "name": "python2"
  },
  "language_info": {
   "codemirror_mode": {
    "name": "ipython",
    "version": 2
   },
   "file_extension": ".py",
   "mimetype": "text/x-python",
   "name": "python",
   "nbconvert_exporter": "python",
   "pygments_lexer": "ipython2",
   "version": "2.7.13"
  }
 },
 "nbformat": 4,
 "nbformat_minor": 2
}
