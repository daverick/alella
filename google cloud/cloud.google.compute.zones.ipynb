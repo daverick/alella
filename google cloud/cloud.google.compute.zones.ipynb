{
 "cells": [
  {
   "cell_type": "code",
   "execution_count": 1,
   "metadata": {
    "collapsed": true
   },
   "outputs": [],
   "source": [
    "#imports\n",
    "import ipywidgets as widgets"
   ]
  },
  {
   "cell_type": "code",
   "execution_count": null,
   "metadata": {
    "collapsed": true
   },
   "outputs": [],
   "source": [
    "# %load getCredentialsFromFile.py\n",
    "\n",
    "\n",
    "def getCredentials():\n",
    "    from  oauth2client import file\n",
    "    import httplib2\n",
    "    import ipywidgets as widgets\n",
    "    print \"Getting the credentials from file...\"\n",
    "    storage = file.Storage(\"oauth2.dat\")\n",
    "    credentials=storage.get()\n",
    "    if credentials is None or credentials.invalid:\n",
    "        print '❗'\n",
    "        display(widgets.Valid(\n",
    "            value=False,\n",
    "            description='Credentials are ',\n",
    "            disabled=False))\n",
    "        display(widgets.HTML('go create a credential valid file here: <a target=\"_blank\" href=\"cloud.google.auth.ipynb.ipynb\">gcloud authorization notebook</a> and try again'))\n",
    "    else:\n",
    "        http_auth = credentials.authorize(httplib2.Http())\n",
    "        print '✅ Ok'\n",
    "        return credentials\n"
   ]
  },
  {
   "cell_type": "code",
   "execution_count": 14,
   "metadata": {
    "collapsed": true
   },
   "outputs": [],
   "source": [
    "%run getCredentialsFromFile.py -i\n",
    "%pycat getCredentialsFromFile.py"
   ]
  },
  {
   "cell_type": "code",
   "execution_count": 18,
   "metadata": {},
   "outputs": [
    {
     "name": "stdout",
     "output_type": "stream",
     "text": [
      "%load getCredentialsFromFile.py\n",
      "\n",
      "\n",
      "def getCredentials():\n",
      "    from  oauth2client import file\n",
      "    import httplib2\n",
      "    import ipywidgets as widgets\n",
      "    print \"Getting the credentials from file...\"\n",
      "    storage = file.Storage(\"oauth2.dat\")\n",
      "    credentials=storage.get()\n",
      "    if credentials is None or credentials.invalid:\n",
      "        print '❗'\n",
      "        display(widgets.Valid(\n",
      "            value=False,\n",
      "            description='Credentials are ',\n",
      "            disabled=False))\n",
      "        display(widgets.HTML('go create a credential valid file here: <a target=\"_blank\" href=\"cloud.google.auth.ipynb.ipynb\">gcloud authorization notebook</a> and try again'))\n",
      "    else:\n",
      "        http_auth = credentials.authorize(httplib2.Http())\n",
      "        print '✅ Ok'\n",
      "        return credentials\n",
      "%load getCredentialsFromFile.py\n",
      "%load?\n",
      "%run?\n",
      "%run getCredentialsFromFile.py\n",
      "def getCredentials():\n",
      "    print 'prout'\n",
      "credentials=getCredentials()\n",
      "%run getCredentialsFromFile.py\n",
      "credentials=getCredentials()\n",
      "%run?\n",
      "%run getCredentialsFromFile.py -i\n",
      "%run?\n",
      "credentials=getCredentials()\n",
      "%run getCredentialsFromFile.py -i\n",
      "%pycat getCredentialsFromFile.py\n",
      "credentials=getCredentials()\n",
      "%pycat?\n",
      "%history?\n",
      "%history\n"
     ]
    }
   ],
   "source": [
    "%history\n"
   ]
  },
  {
   "cell_type": "code",
   "execution_count": 15,
   "metadata": {},
   "outputs": [
    {
     "name": "stdout",
     "output_type": "stream",
     "text": [
      "Getting the credentials from file...\n",
      "✅ Ok\n"
     ]
    }
   ],
   "source": [
    "credentials=getCredentials()"
   ]
  },
  {
   "cell_type": "code",
   "execution_count": 4,
   "metadata": {
    "collapsed": true
   },
   "outputs": [],
   "source": [
    "#create the service\n",
    "from apiclient.discovery import build\n",
    "compute_service = build('compute', 'v1',credentials=credentials)"
   ]
  },
  {
   "cell_type": "code",
   "execution_count": 5,
   "metadata": {},
   "outputs": [
    {
     "data": {
      "application/vnd.jupyter.widget-view+json": {
       "model_id": "5249962fc15f457c8a76a83e713d362b"
      }
     },
     "metadata": {},
     "output_type": "display_data"
    }
   ],
   "source": [
    "#set the projectId\n",
    "projectCodeWidget=widgets.Text(description=\"Your project code:\")\n",
    "valid=widgets.Valid(value=False,description='',disabled=False)\n",
    "display(widgets.Box([projectCodeWidget,valid]))\n",
    "def valueChange(sender):\n",
    "    if projectCodeWidget!=\"\":\n",
    "        valid.value=True\n",
    "        valid.description='OK'\n",
    "\n",
    "projectCodeWidget.observe(valueChange, 'value')"
   ]
  },
  {
   "cell_type": "code",
   "execution_count": 6,
   "metadata": {},
   "outputs": [
    {
     "name": "stdout",
     "output_type": "stream",
     "text": [
      "\n"
     ]
    }
   ],
   "source": [
    "print projectCodeWidget.value"
   ]
  },
  {
   "cell_type": "code",
   "execution_count": 10,
   "metadata": {},
   "outputs": [
    {
     "ename": "TypeError",
     "evalue": "Parameter \"project\" value \"\" does not match the pattern \"(?:(?:[-a-z0-9]{1,63}\\.)*(?:[a-z](?:[-a-z0-9]{0,61}[a-z0-9])?):)?(?:[0-9]{1,19}|(?:[a-z0-9](?:[-a-z0-9]{0,61}[a-z0-9])?))\"",
     "output_type": "error",
     "traceback": [
      "\u001b[0;31m---------------------------------------------------------------------------\u001b[0m",
      "\u001b[0;31mTypeError\u001b[0m                                 Traceback (most recent call last)",
      "\u001b[0;32m<ipython-input-10-2b601cd37e0c>\u001b[0m in \u001b[0;36m<module>\u001b[0;34m()\u001b[0m\n\u001b[0;32m----> 1\u001b[0;31m \u001b[0mzones\u001b[0m\u001b[0;34m=\u001b[0m\u001b[0mcompute_service\u001b[0m\u001b[0;34m.\u001b[0m\u001b[0mzones\u001b[0m\u001b[0;34m(\u001b[0m\u001b[0;34m)\u001b[0m\u001b[0;34m.\u001b[0m\u001b[0mlist\u001b[0m\u001b[0;34m(\u001b[0m\u001b[0mproject\u001b[0m\u001b[0;34m=\u001b[0m\u001b[0mprojectCodeWidget\u001b[0m\u001b[0;34m.\u001b[0m\u001b[0mvalue\u001b[0m\u001b[0;34m)\u001b[0m\u001b[0;34m.\u001b[0m\u001b[0mexecute\u001b[0m\u001b[0;34m(\u001b[0m\u001b[0;34m)\u001b[0m\u001b[0;34m\u001b[0m\u001b[0m\n\u001b[0m\u001b[1;32m      2\u001b[0m \u001b[0;32mfrom\u001b[0m \u001b[0mpandas\u001b[0m \u001b[0;32mimport\u001b[0m \u001b[0mDataFrame\u001b[0m\u001b[0;34m\u001b[0m\u001b[0m\n\u001b[1;32m      3\u001b[0m \u001b[0mDataFrame\u001b[0m\u001b[0;34m.\u001b[0m\u001b[0mfrom_dict\u001b[0m\u001b[0;34m(\u001b[0m\u001b[0mzones\u001b[0m\u001b[0;34m[\u001b[0m\u001b[0;34m'items'\u001b[0m\u001b[0;34m]\u001b[0m\u001b[0;34m)\u001b[0m\u001b[0;34m\u001b[0m\u001b[0m\n",
      "\u001b[0;32m/usr/local/lib/python2.7/site-packages/googleapiclient/discovery.pyc\u001b[0m in \u001b[0;36mmethod\u001b[0;34m(self, **kwargs)\u001b[0m\n\u001b[1;32m    737\u001b[0m             raise TypeError(\n\u001b[1;32m    738\u001b[0m                 \u001b[0;34m'Parameter \"%s\" value \"%s\" does not match the pattern \"%s\"'\u001b[0m \u001b[0;34m%\u001b[0m\u001b[0;34m\u001b[0m\u001b[0m\n\u001b[0;32m--> 739\u001b[0;31m                 (name, pvalue, regex))\n\u001b[0m\u001b[1;32m    740\u001b[0m \u001b[0;34m\u001b[0m\u001b[0m\n\u001b[1;32m    741\u001b[0m     \u001b[0;32mfor\u001b[0m \u001b[0mname\u001b[0m\u001b[0;34m,\u001b[0m \u001b[0menums\u001b[0m \u001b[0;32min\u001b[0m \u001b[0msix\u001b[0m\u001b[0;34m.\u001b[0m\u001b[0miteritems\u001b[0m\u001b[0;34m(\u001b[0m\u001b[0mparameters\u001b[0m\u001b[0;34m.\u001b[0m\u001b[0menum_params\u001b[0m\u001b[0;34m)\u001b[0m\u001b[0;34m:\u001b[0m\u001b[0;34m\u001b[0m\u001b[0m\n",
      "\u001b[0;31mTypeError\u001b[0m: Parameter \"project\" value \"\" does not match the pattern \"(?:(?:[-a-z0-9]{1,63}\\.)*(?:[a-z](?:[-a-z0-9]{0,61}[a-z0-9])?):)?(?:[0-9]{1,19}|(?:[a-z0-9](?:[-a-z0-9]{0,61}[a-z0-9])?))\""
     ]
    }
   ],
   "source": [
    "zones=compute_service.zones().list(project=projectCodeWidget.value).execute()\n",
    "from pandas import DataFrame\n",
    "DataFrame.from_dict(zones['items'])"
   ]
  },
  {
   "cell_type": "code",
   "execution_count": null,
   "metadata": {
    "collapsed": true
   },
   "outputs": [],
   "source": []
  }
 ],
 "metadata": {
  "kernelspec": {
   "display_name": "Python 2",
   "language": "python",
   "name": "python2"
  },
  "language_info": {
   "codemirror_mode": {
    "name": "ipython",
    "version": 2
   },
   "file_extension": ".py",
   "mimetype": "text/x-python",
   "name": "python",
   "nbconvert_exporter": "python",
   "pygments_lexer": "ipython2",
   "version": "2.7.13"
  }
 },
 "nbformat": 4,
 "nbformat_minor": 2
}
