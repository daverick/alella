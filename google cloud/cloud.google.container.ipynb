{
 "cells": [
  {
   "cell_type": "markdown",
   "metadata": {},
   "source": [
    "# cloud.google.container\n",
    "This notebook interact with the google cloud container service"
   ]
  },
  {
   "cell_type": "code",
   "execution_count": 12,
   "metadata": {
    "collapsed": true
   },
   "outputs": [],
   "source": [
    "#import\n",
    "import googleapiclient.discovery\n",
    "from apiclient.discovery import build\n",
    "import ipywidgets as widgets\n",
    "from pandas import DataFrame\n",
    "import json"
   ]
  },
  {
   "cell_type": "code",
   "execution_count": 6,
   "metadata": {
    "collapsed": true
   },
   "outputs": [],
   "source": [
    "# %load getCredentialsFromFile.py\n",
    "\n",
    "\n",
    "def getCredentials():\n",
    "    from  oauth2client import file\n",
    "    import httplib2\n",
    "    import ipywidgets as widgets\n",
    "    print \"Getting the credentials from file...\"\n",
    "    storage = file.Storage(\"oauth2.dat\")\n",
    "    credentials=storage.get()\n",
    "    if credentials is None or credentials.invalid:\n",
    "        print '❗'\n",
    "        display(widgets.Valid(\n",
    "            value=False,\n",
    "            description='Credentials are ',\n",
    "            disabled=False))\n",
    "        display(widgets.HTML('go create a credential valid file here: <a target=\"_blank\" href=\"cloud.google.auth.ipynb.ipynb\">gcloud authorization notebook</a> and try again'))\n",
    "    else:\n",
    "        http_auth = credentials.authorize(httplib2.Http())\n",
    "        print '✅ Ok'\n",
    "        return credentials\n"
   ]
  },
  {
   "cell_type": "code",
   "execution_count": 7,
   "metadata": {},
   "outputs": [
    {
     "name": "stdout",
     "output_type": "stream",
     "text": [
      "Getting the credentials from file...\n",
      "✅ Ok\n"
     ]
    }
   ],
   "source": [
    "credentials=getCredentials()"
   ]
  },
  {
   "cell_type": "code",
   "execution_count": 8,
   "metadata": {
    "collapsed": true
   },
   "outputs": [],
   "source": [
    "#create the services\n",
    "from apiclient.discovery import build\n",
    "container_service = build('container', 'v1', credentials=credentials)\n",
    "resource_service = build('cloudresourcemanager', 'v1', credentials=credentials)"
   ]
  },
  {
   "cell_type": "code",
   "execution_count": 19,
   "metadata": {},
   "outputs": [
    {
     "data": {
      "application/vnd.jupyter.widget-view+json": {
       "model_id": "871558fbe086424285eceaad791ab5bc"
      }
     },
     "metadata": {},
     "output_type": "display_data"
    }
   ],
   "source": [
    "# %load chooseProjectId.py\n",
    "#projectId is the variable that will contains the projectId that will be used in the API calls\n",
    "projectId=None\n",
    "\n",
    "#list the existing projects \n",
    "projects=resource_service.projects().list().execute()\n",
    "#we create a dictionaray name:projectID foe a dropdown list widget\n",
    "projectsList={project['name']:project['projectId'] for project in projects['projects']}\n",
    "projectsList['None']='invalid'\n",
    "\n",
    "#the dropdownlist widget\n",
    "projectWidget=widgets.Dropdown(options=projectsList,description='Choose your Project',value='invalid')\n",
    "#a valid widget that get valid when a project is selected\n",
    "projectIdValid=widgets.Valid(value=False,description='')\n",
    "display(widgets.Box([projectWidget,projectIdValid]))\n",
    "\n",
    "def projectValueChange(sender):\n",
    "    if projectWidget.value!='invalid':\n",
    "        #when a valid project is selected ,the gloabl variable projectId is set \n",
    "        projectIdValid.value=True\n",
    "        projectIdValid.description=projectWidget.value\n",
    "        global projectId\n",
    "        projectId=projectWidget.value    \n",
    "    else:\n",
    "        projectIdValid.value=False\n",
    "        projectIdValid.description=''\n",
    "projectWidget.observe(projectValueChange, 'value')"
   ]
  },
  {
   "cell_type": "code",
   "execution_count": 18,
   "metadata": {
    "collapsed": true
   },
   "outputs": [],
   "source": [
    "zone='europe-west2-b'"
   ]
  },
  {
   "cell_type": "code",
   "execution_count": 20,
   "metadata": {},
   "outputs": [
    {
     "name": "stdout",
     "output_type": "stream",
     "text": [
      "{\n",
      "  \"defaultClusterVersion\": \"1.6.4\", \n",
      "  \"validNodeVersions\": [\n",
      "    \"1.6.6\", \n",
      "    \"1.6.4\", \n",
      "    \"1.5.7\", \n",
      "    \"1.4.9\"\n",
      "  ], \n",
      "  \"validImageTypes\": [\n",
      "    \"CONTAINER_VM\", \n",
      "    \"COS\"\n",
      "  ], \n",
      "  \"validMasterVersions\": [\n",
      "    \"1.6.6\", \n",
      "    \"1.6.4\"\n",
      "  ], \n",
      "  \"defaultImageType\": \"COS\"\n",
      "}\n"
     ]
    }
   ],
   "source": [
    "#call the container service to get the servConfig\n",
    "serverConfig=container_service.projects().zones().getServerconfig(zone=zone,projectId=projectId).execute()\n",
    "\n",
    "print(json.dumps(serverConfig, indent=2))"
   ]
  },
  {
   "cell_type": "code",
   "execution_count": null,
   "metadata": {
    "collapsed": true
   },
   "outputs": [],
   "source": []
  }
 ],
 "metadata": {
  "kernelspec": {
   "display_name": "Python 2",
   "language": "python",
   "name": "python2"
  },
  "language_info": {
   "codemirror_mode": {
    "name": "ipython",
    "version": 2
   },
   "file_extension": ".py",
   "mimetype": "text/x-python",
   "name": "python",
   "nbconvert_exporter": "python",
   "pygments_lexer": "ipython2",
   "version": "2.7.13"
  }
 },
 "nbformat": 4,
 "nbformat_minor": 2
}
