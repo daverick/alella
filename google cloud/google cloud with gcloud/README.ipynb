{
 "cells": [
  {
   "cell_type": "code",
   "execution_count": 2,
   "metadata": {},
   "outputs": [
    {
     "data": {
      "text/markdown": [
       "# google cloud with gcloud\n",
       "a collection of notebooks that use Google Cloud SDK CLI commands\n",
       "- [gcloud installation check](gcloud%20installation%20check.ipynb) a few commands to check that gcloud is correctly installed and autheticated and to set up the project in gcloud config\n",
       "- [gsutil: exploring cloud storage](gsutil%20exploring%20cloud%20storage.ipynb) exploring the gsutil command\n",
       "- [cloud sql with gcloud](cloud%20sql%20with%20gcloud.ipynb) exploring cloud SQL with the gcloud command\n"
      ],
      "text/plain": [
       "<IPython.core.display.Markdown object>"
      ]
     },
     "metadata": {},
     "output_type": "display_data"
    }
   ],
   "source": [
    "%run ../../displayREADME.py"
   ]
  },
  {
   "cell_type": "code",
   "execution_count": null,
   "metadata": {
    "collapsed": true
   },
   "outputs": [],
   "source": []
  }
 ],
 "metadata": {
  "kernelspec": {
   "display_name": "Python 3",
   "language": "python",
   "name": "python3"
  },
  "language_info": {
   "codemirror_mode": {
    "name": "ipython",
    "version": 3
   },
   "file_extension": ".py",
   "mimetype": "text/x-python",
   "name": "python",
   "nbconvert_exporter": "python",
   "pygments_lexer": "ipython3",
   "version": "3.5.2"
  }
 },
 "nbformat": 4,
 "nbformat_minor": 2
}
