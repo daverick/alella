{
 "cells": [
  {
   "cell_type": "code",
   "execution_count": 1,
   "metadata": {},
   "outputs": [
    {
     "data": {
      "text/markdown": [
       "# google cloud notebooks\n",
       "a collection of notebooks that call google cloud API with python\n",
       "- [cloud.google.auth](cloud.google.auth.ipynb) create OAuth 2.0 credential and save it to a file\n",
       "- [cloud.google.compute.instances](cloud.google.compute.instances.ipynb)  create, delete start and stop instances in google compute cloud service\n",
       "- [cloud.google.compute.zones](cloud.google.compute.zones.ipynb) list the available zone in compute service\n",
       "- [cloud.google.container](cloud.google.container.ipynb) google container service\n"
      ],
      "text/plain": [
       "<IPython.core.display.Markdown object>"
      ]
     },
     "metadata": {},
     "output_type": "display_data"
    }
   ],
   "source": [
    "%run ../../displayREADME.py"
   ]
  },
  {
   "cell_type": "code",
   "execution_count": null,
   "metadata": {
    "collapsed": true
   },
   "outputs": [],
   "source": []
  }
 ],
 "metadata": {
  "kernelspec": {
   "display_name": "Python 3",
   "language": "python",
   "name": "python3"
  },
  "language_info": {
   "codemirror_mode": {
    "name": "ipython",
    "version": 3
   },
   "file_extension": ".py",
   "mimetype": "text/x-python",
   "name": "python",
   "nbconvert_exporter": "python",
   "pygments_lexer": "ipython3",
   "version": "3.5.2"
  }
 },
 "nbformat": 4,
 "nbformat_minor": 2
}
