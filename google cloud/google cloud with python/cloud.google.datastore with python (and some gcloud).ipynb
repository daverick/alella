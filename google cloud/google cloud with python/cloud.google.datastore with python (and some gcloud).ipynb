{
 "cells": [
  {
   "cell_type": "code",
   "execution_count": 68,
   "metadata": {},
   "outputs": [
    {
     "name": "stdout",
     "output_type": "stream",
     "text": [
      "indexes: \r\n",
      "  - kind: Art\r\n",
      "    properties: \r\n",
      "    - name: year\r\n",
      "    - name: artist\r\n",
      "    - name: Title"
     ]
    }
   ],
   "source": [
    "!cat index.yaml"
   ]
  },
  {
   "cell_type": "code",
   "execution_count": 65,
   "metadata": {},
   "outputs": [
    {
     "name": "stdout",
     "output_type": "stream",
     "text": [
      "\u001b[m\u001b[1mNAME\u001b[m\r\n",
      "    gcloud datastore - manage your Cloud Datastore indexes\r\n",
      "\r\n",
      "\u001b[m\u001b[1mSYNOPSIS\u001b[m\r\n",
      "    \u001b[1mgcloud datastore\u001b[m \u001b[4mCOMMAND\u001b[m [\u001b[4mGCLOUD_WIDE_FLAG ...\u001b[m]\r\n",
      "\r\n",
      "\u001b[m\u001b[1mDESCRIPTION\u001b[m\r\n",
      "    The gcloud datastore command group lets you create and delete Google Cloud\r\n",
      "    Datastore indexes.\r\n",
      "\r\n",
      "    Cloud Datastore is a highly-scalable NoSQL database for your applications.\r\n",
      "    Cloud Datastore automatically handles sharding and replication, providing\r\n",
      "    you with a highly available and durable database that scales automatically\r\n",
      "    to handle your applications' load.\r\n",
      "\r\n",
      "    More information on Cloud Datastore can be found here:\r\n",
      "    https://cloud.google.com/datastore and detailed documentation can be found\r\n",
      "    here: https://cloud.google.com/datastore/docs\r\n",
      "\r\n",
      "\u001b[m\u001b[1mGCLOUD WIDE FLAGS\u001b[m\r\n",
      "    These flags are available to all commands: --account, --configuration,\r\n",
      "    --flatten, --format, --help, --log-http, --project, --quiet, --trace-token,\r\n",
      "    --user-output-enabled, --verbosity. Run \u001b[1m$ gcloud help\u001b[m for details.\r\n",
      "\r\n",
      "\u001b[m\u001b[1mCOMMANDS\u001b[m\r\n",
      "    \u001b[1m\u001b[1;4mCOMMAND\u001b[1m\u001b[m is one of the following:\r\n",
      "\r\n",
      "     \u001b[1mcleanup-indexes\u001b[m\r\n",
      "        Remove unused datastore indexes based on your local index\r\n",
      "        configuration.\r\n",
      "\r\n",
      "     \u001b[1mcreate-indexes\u001b[m\r\n",
      "        Create new datastore indexes based on your local index configuration.\r\n",
      "\r\n",
      "\u001b[m\u001b[1mEXAMPLES\u001b[m\r\n",
      "    To create new indexes from a file, run:\r\n",
      "\r\n",
      "        $ gcloud datastore create-indexes index.yaml\r\n",
      "\r\n",
      "    To clean up unused indexes from a file, run:\r\n",
      "\r\n",
      "        $ gcloud datastore cleanup-indexes index.yaml\r\n",
      "\u001b[m"
     ]
    }
   ],
   "source": [
    "!gcloud datastore --help"
   ]
  },
  {
   "cell_type": "code",
   "execution_count": 66,
   "metadata": {},
   "outputs": [
    {
     "name": "stdout",
     "output_type": "stream",
     "text": [
      "\u001b[m\u001b[1mNAME\u001b[m\r\n",
      "    gcloud datastore create-indexes - create new datastore indexes based on\r\n",
      "        your local index configuration\r\n",
      "\r\n",
      "\u001b[m\u001b[1mSYNOPSIS\u001b[m\r\n",
      "    \u001b[1mgcloud datastore create-indexes\u001b[m \u001b[4mINDEX_FILE\u001b[m [\u001b[4mGCLOUD_WIDE_FLAG ...\u001b[m]\r\n",
      "\r\n",
      "\u001b[m\u001b[1mDESCRIPTION\u001b[m\r\n",
      "    This command creates new datastore indexes based on your local index\r\n",
      "    configuration. Any indexes in your index file that do not exist will be\r\n",
      "    created.\r\n",
      "\r\n",
      "\u001b[m\u001b[1mPOSITIONAL ARGUMENTS\u001b[m\r\n",
      "     \u001b[4mINDEX_FILE\u001b[m\r\n",
      "        The path to your index.yaml file.\r\n",
      "\r\n",
      "\u001b[m\u001b[1mGCLOUD WIDE FLAGS\u001b[m\r\n",
      "    These flags are available to all commands: --account, --configuration,\r\n",
      "    --flatten, --format, --help, --log-http, --project, --quiet, --trace-token,\r\n",
      "    --user-output-enabled, --verbosity. Run \u001b[1m$ gcloud help\u001b[m for details.\r\n",
      "\r\n",
      "\u001b[m\u001b[1mEXAMPLES\u001b[m\r\n",
      "    To create new indexes based on your local configuration, run:\r\n",
      "\r\n",
      "        $ gcloud datastore create-indexes ~/myapp/index.yaml\r\n",
      "\r\n",
      "    Detailed information about index configuration can be found at the\r\n",
      "    index.yaml reference\r\n",
      "    (https://cloud.google.com/appengine/docs/standard/python/config/indexref).\r\n",
      "\u001b[m"
     ]
    }
   ],
   "source": [
    "!gcloud datastore create-indexes --help"
   ]
  },
  {
   "cell_type": "code",
   "execution_count": 69,
   "metadata": {
    "scrolled": true
   },
   "outputs": [
    {
     "name": "stdout",
     "output_type": "stream",
     "text": [
      "Configurations to update:\r\n",
      "\r\n",
      "descriptor:      [index.yaml]\r\n",
      "type:            [datastore indexes]\r\n",
      "target project:  [future-sonar-168815]\r\n",
      "\r\n",
      "\r\n"
     ]
    }
   ],
   "source": [
    "!gcloud datastore create-indexes index.yaml --quiet"
   ]
  },
  {
   "cell_type": "code",
   "execution_count": 70,
   "metadata": {
    "scrolled": true
   },
   "outputs": [
    {
     "name": "stdout",
     "output_type": "stream",
     "text": [
      "Configurations to update:\r\n",
      "\r\n",
      "descriptor:      [index.yaml]\r\n",
      "type:            [datastore indexes]\r\n",
      "target project:  [future-sonar-168815]\r\n",
      "\r\n",
      "\r\n"
     ]
    }
   ],
   "source": [
    "!gcloud datastore cleanup-indexes index.yaml --quiet"
   ]
  },
  {
   "cell_type": "code",
   "execution_count": null,
   "metadata": {
    "collapsed": true
   },
   "outputs": [],
   "source": []
  },
  {
   "cell_type": "code",
   "execution_count": 1,
   "metadata": {
    "collapsed": true
   },
   "outputs": [],
   "source": [
    "# import\n",
    "from google.cloud import datastore\n"
   ]
  },
  {
   "cell_type": "markdown",
   "metadata": {},
   "source": [
    "First you have to authenticate the google python library with\n",
    "\n",
    "<code>gcloud beta auth application-default login</code>"
   ]
  },
  {
   "cell_type": "code",
   "execution_count": null,
   "metadata": {
    "collapsed": true
   },
   "outputs": [],
   "source": [
    "#client initialization\n",
    "client=datastore.Client(project='future-sonar-168815')\n"
   ]
  },
  {
   "cell_type": "code",
   "execution_count": 2,
   "metadata": {
    "collapsed": true
   },
   "outputs": [],
   "source": [
    "#let's create an new entity\n",
    "key=client.key('Art')\n",
    "entity=datastore.Entity(key,exclude_from_indexes=['Title'])\n",
    "print(entity)"
   ]
  },
  {
   "cell_type": "code",
   "execution_count": 19,
   "metadata": {},
   "outputs": [
    {
     "name": "stdout",
     "output_type": "stream",
     "text": [
      "<Entity('Art', 5760820306771968) {'Title': 'Sunrise Beach at Sunset', 'artist': 'Pat Sumner', 'year': 2012}>\n"
     ]
    }
   ],
   "source": [
    "#add some values\n",
    "entity.update({'Title':'Sunrise Beach at Sunset',\n",
    "    'artist':'Pat Sumner',\n",
    "    'year':2012})\n",
    "print(entity)"
   ]
  },
  {
   "cell_type": "code",
   "execution_count": 20,
   "metadata": {
    "collapsed": true
   },
   "outputs": [],
   "source": [
    "#put the new entity in the cloud datastore\n",
    "client.put(entity)"
   ]
  },
  {
   "cell_type": "code",
   "execution_count": 23,
   "metadata": {
    "collapsed": true
   },
   "outputs": [],
   "source": [
    "#another one\n",
    "key=client.key('Art')\n",
    "entity=datastore.Entity(key,exclude_from_indexes=['Title'])\n",
    "entity.update({'Title':'Laura near the Crossroads',\n",
    "               'artist':'K. Kim Jones',\n",
    "                'year':2015})\n",
    "client.put(entity)"
   ]
  },
  {
   "cell_type": "code",
   "execution_count": 22,
   "metadata": {
    "collapsed": true
   },
   "outputs": [],
   "source": [
    "#another one\n",
    "key=client.key('Art')\n",
    "entity=datastore.Entity(key,exclude_from_indexes=['Title'])\n",
    "entity.update({'Title':'Login / Logout',\n",
    "               'artist':'Pat Sumner',\n",
    "                'year':2008})\n",
    "client.put(entity)"
   ]
  },
  {
   "cell_type": "code",
   "execution_count": 24,
   "metadata": {},
   "outputs": [
    {
     "name": "stdout",
     "output_type": "stream",
     "text": [
      "<Entity('Art', 5715999101812736) {'year': 2008, 'artist': 'Pat Sumner', 'Title': 'Login / Logout'}>\n",
      "<Entity('Art', 5760820306771968) {'year': 2012, 'artist': 'Pat Sumner', 'Title': 'Sunrise Beach at Sunset'}>\n"
     ]
    }
   ],
   "source": [
    "#let's make a query and have a look at the result\n",
    "query=client.query(kind='Art',filters=[('artist','=','Pat Sumner')])\n",
    "for result in query.fetch():\n",
    "    print(result)"
   ]
  },
  {
   "cell_type": "code",
   "execution_count": 63,
   "metadata": {},
   "outputs": [],
   "source": [
    "# Let's delete them\n",
    "query=client.query(kind='Art',filters=[('artist','=','Pat Sumner')])\n",
    "client.delete_multi([result.key for result in query.fetch()])"
   ]
  },
  {
   "cell_type": "code",
   "execution_count": 82,
   "metadata": {},
   "outputs": [
    {
     "name": "stdout",
     "output_type": "stream",
     "text": [
      "<Entity('Art', 5096363633147904) {'year': 2015, 'artist': 'K. Kim Jones', 'Title': 'Laura near the Crossroads'}>\n",
      "<Entity('Art', 5644406560391168) {'year': 2015, 'artist': 'K. Kim Jones', 'Title': 'Laura near the Crossroads'}>\n",
      "<Entity('Art', 5720147234914304) {'year': 2015, 'artist': 'K. Kim Jones', 'Title': 'Laura near the Crossroads'}>\n"
     ]
    }
   ],
   "source": [
    "#check if the deletes have been done correctly \n",
    "query=client.query(kind='Art')\n",
    "for result in query.fetch():\n",
    "    print(result)"
   ]
  },
  {
   "cell_type": "code",
   "execution_count": null,
   "metadata": {
    "collapsed": true
   },
   "outputs": [],
   "source": []
  }
 ],
 "metadata": {
  "kernelspec": {
   "display_name": "Python 3",
   "language": "python",
   "name": "python3"
  },
  "language_info": {
   "codemirror_mode": {
    "name": "ipython",
    "version": 3
   },
   "file_extension": ".py",
   "mimetype": "text/x-python",
   "name": "python",
   "nbconvert_exporter": "python",
   "pygments_lexer": "ipython3",
   "version": "3.5.2"
  }
 },
 "nbformat": 4,
 "nbformat_minor": 2
}
